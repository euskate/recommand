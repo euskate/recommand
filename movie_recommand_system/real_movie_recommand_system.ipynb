{
  "nbformat": 4,
  "nbformat_minor": 0,
  "metadata": {
    "colab": {
      "provenance": []
    },
    "kernelspec": {
      "name": "python3",
      "display_name": "Python 3"
    },
    "language_info": {
      "name": "python"
    }
  },
  "cells": [
    {
      "cell_type": "code",
      "execution_count": 1,
      "metadata": {
        "colab": {
          "base_uri": "https://localhost:8080/"
        },
        "id": "ZyAStelbo50p",
        "outputId": "14e65dc5-fc6c-4848-fa44-b1a7186150a6"
      },
      "outputs": [
        {
          "output_type": "stream",
          "name": "stdout",
          "text": [
            "2.17.0\n"
          ]
        }
      ],
      "source": [
        "import tensorflow as tf\n",
        "print(tf.__version__)"
      ]
    },
    {
      "cell_type": "code",
      "source": [
        "import tensorflow as tf\n",
        "from tensorflow.keras.datasets import mnist\n",
        "from tensorflow.keras.models import Sequential\n",
        "from tensorflow.keras.layers import Dense, Flatten\n",
        "from tensorflow.keras.utils import to_categorical\n",
        "import matplotlib.pyplot as plt\n",
        "\n",
        "# 데이터셋 로드\n",
        "(x_train, y_train), (x_test, y_test) = mnist.load_data()\n",
        "\n",
        "# 데이터 전처리\n",
        "x_train = x_train.reshape((x_train.shape[0], 28, 28, 1)).astype('float32') / 255\n",
        "x_test = x_test.reshape((x_test.shape[0], 28, 28, 1)).astype('float32') / 255\n",
        "\n",
        "y_train = to_categorical(y_train)\n",
        "y_test = to_categorical(y_test)\n",
        "\n",
        "# 모델 생성\n",
        "model = Sequential([\n",
        "    Flatten(input_shape=(28, 28, 1)),\n",
        "    Dense(128, activation='relu'),\n",
        "    Dense(64, activation='relu'),\n",
        "    Dense(10, activation='softmax')\n",
        "])\n",
        "\n",
        "# 모델 컴파일\n",
        "model.compile(optimizer='adam',\n",
        "              loss='categorical_crossentropy',\n",
        "              metrics=['accuracy'])\n",
        "\n",
        "# 모델 학습\n",
        "history = model.fit(x_train, y_train, epochs=10, validation_data=(x_test, y_test))\n",
        "\n",
        "# 학습 결과 시각화\n",
        "plt.plot(history.history['accuracy'], label='train accuracy')\n",
        "plt.plot(history.history['val_accuracy'], label='validation accuracy')\n",
        "plt.xlabel('Epoch')\n",
        "plt.ylabel('Accuracy')\n",
        "plt.legend(loc='lower right')\n",
        "plt.title('Model Accuracy')\n",
        "plt.show()\n",
        "\n",
        "plt.plot(history.history['loss'], label='train loss')\n",
        "plt.plot(history.history['val_loss'], label='validation loss')\n",
        "plt.xlabel('Epoch')\n",
        "plt.ylabel('Loss')\n",
        "plt.legend(loc='upper right')\n",
        "plt.title('Model Loss')\n",
        "plt.show()\n",
        "\n",
        "# 모델 평가\n",
        "test_loss, test_acc = model.evaluate(x_test, y_test)\n",
        "print(f\"Test accuracy: {test_acc}\")"
      ],
      "metadata": {
        "colab": {
          "base_uri": "https://localhost:8080/",
          "height": 1000
        },
        "id": "ZNRNiS1BpsMq",
        "outputId": "3c8aa62f-4cbd-4c4f-c2a5-bf54ece6d904"
      },
      "execution_count": 2,
      "outputs": [
        {
          "output_type": "stream",
          "name": "stdout",
          "text": [
            "Downloading data from https://storage.googleapis.com/tensorflow/tf-keras-datasets/mnist.npz\n",
            "\u001b[1m11490434/11490434\u001b[0m \u001b[32m━━━━━━━━━━━━━━━━━━━━\u001b[0m\u001b[37m\u001b[0m \u001b[1m0s\u001b[0m 0us/step\n"
          ]
        },
        {
          "output_type": "stream",
          "name": "stderr",
          "text": [
            "/usr/local/lib/python3.10/dist-packages/keras/src/layers/reshaping/flatten.py:37: UserWarning: Do not pass an `input_shape`/`input_dim` argument to a layer. When using Sequential models, prefer using an `Input(shape)` object as the first layer in the model instead.\n",
            "  super().__init__(**kwargs)\n"
          ]
        },
        {
          "output_type": "stream",
          "name": "stdout",
          "text": [
            "Epoch 1/10\n",
            "\u001b[1m1875/1875\u001b[0m \u001b[32m━━━━━━━━━━━━━━━━━━━━\u001b[0m\u001b[37m\u001b[0m \u001b[1m15s\u001b[0m 6ms/step - accuracy: 0.8765 - loss: 0.4170 - val_accuracy: 0.9619 - val_loss: 0.1195\n",
            "Epoch 2/10\n",
            "\u001b[1m1875/1875\u001b[0m \u001b[32m━━━━━━━━━━━━━━━━━━━━\u001b[0m\u001b[37m\u001b[0m \u001b[1m18s\u001b[0m 4ms/step - accuracy: 0.9700 - loss: 0.1033 - val_accuracy: 0.9723 - val_loss: 0.0872\n",
            "Epoch 3/10\n",
            "\u001b[1m1875/1875\u001b[0m \u001b[32m━━━━━━━━━━━━━━━━━━━━\u001b[0m\u001b[37m\u001b[0m \u001b[1m9s\u001b[0m 5ms/step - accuracy: 0.9790 - loss: 0.0671 - val_accuracy: 0.9722 - val_loss: 0.0868\n",
            "Epoch 4/10\n",
            "\u001b[1m1875/1875\u001b[0m \u001b[32m━━━━━━━━━━━━━━━━━━━━\u001b[0m\u001b[37m\u001b[0m \u001b[1m7s\u001b[0m 4ms/step - accuracy: 0.9844 - loss: 0.0505 - val_accuracy: 0.9775 - val_loss: 0.0700\n",
            "Epoch 5/10\n",
            "\u001b[1m1875/1875\u001b[0m \u001b[32m━━━━━━━━━━━━━━━━━━━━\u001b[0m\u001b[37m\u001b[0m \u001b[1m9s\u001b[0m 5ms/step - accuracy: 0.9876 - loss: 0.0401 - val_accuracy: 0.9729 - val_loss: 0.0883\n",
            "Epoch 6/10\n",
            "\u001b[1m1875/1875\u001b[0m \u001b[32m━━━━━━━━━━━━━━━━━━━━\u001b[0m\u001b[37m\u001b[0m \u001b[1m11s\u001b[0m 5ms/step - accuracy: 0.9905 - loss: 0.0298 - val_accuracy: 0.9732 - val_loss: 0.0881\n",
            "Epoch 7/10\n",
            "\u001b[1m1875/1875\u001b[0m \u001b[32m━━━━━━━━━━━━━━━━━━━━\u001b[0m\u001b[37m\u001b[0m \u001b[1m7s\u001b[0m 4ms/step - accuracy: 0.9926 - loss: 0.0248 - val_accuracy: 0.9801 - val_loss: 0.0737\n",
            "Epoch 8/10\n",
            "\u001b[1m1875/1875\u001b[0m \u001b[32m━━━━━━━━━━━━━━━━━━━━\u001b[0m\u001b[37m\u001b[0m \u001b[1m11s\u001b[0m 4ms/step - accuracy: 0.9922 - loss: 0.0243 - val_accuracy: 0.9808 - val_loss: 0.0694\n",
            "Epoch 9/10\n",
            "\u001b[1m1875/1875\u001b[0m \u001b[32m━━━━━━━━━━━━━━━━━━━━\u001b[0m\u001b[37m\u001b[0m \u001b[1m9s\u001b[0m 5ms/step - accuracy: 0.9949 - loss: 0.0153 - val_accuracy: 0.9775 - val_loss: 0.0901\n",
            "Epoch 10/10\n",
            "\u001b[1m1875/1875\u001b[0m \u001b[32m━━━━━━━━━━━━━━━━━━━━\u001b[0m\u001b[37m\u001b[0m \u001b[1m12s\u001b[0m 6ms/step - accuracy: 0.9934 - loss: 0.0182 - val_accuracy: 0.9796 - val_loss: 0.0853\n"
          ]
        },
        {
          "output_type": "display_data",
          "data": {
            "text/plain": [
              "<Figure size 640x480 with 1 Axes>"
            ],
            "image/png": "[encoded data removed]"
          },
          "metadata": {}
        },
        {
          "output_type": "display_data",
          "data": {
            "text/plain": [
              "<Figure size 640x480 with 1 Axes>"
            ],
            "image/png": "[encoded data removed]"
          },
          "metadata": {}
        },
        {
          "output_type": "stream",
          "name": "stdout",
          "text": [
            "\u001b[1m313/313\u001b[0m \u001b[32m━━━━━━━━━━━━━━━━━━━━\u001b[0m\u001b[37m\u001b[0m \u001b[1m1s\u001b[0m 2ms/step - accuracy: 0.9762 - loss: 0.0973\n",
            "Test accuracy: 0.9796000123023987\n"
          ]
        }
      ]
    },
    {
      "cell_type": "code",
      "source": [
        "# 코사인 유사도에 의한 추천 시스템\n",
        "import numpy as np\n",
        "from sklearn.metrics.pairwise import cosine_similarity\n",
        "\n",
        "# 사용자 벡터 정의 (Kim의 다섯 번째, 여섯 번째 값은 0으로 초기화)\n",
        "kim = np.array([5, 1, 4, 4, 0, 0])\n",
        "lee = np.array([3, 1, 2, 2, 3, 2])\n",
        "park = np.array([4, 2, 4, 5, 5, 1])\n",
        "choi = np.array([3, 3, 1, 5, 4, 3])\n",
        "kwon = np.array([1, 5, 5, 2, 1, 4])\n",
        "\n",
        "# 모든 사용자 벡터를 모아서 행렬로 만듦\n",
        "users = np.array([kim, lee, park, choi, kwon])\n",
        "\n",
        "# Kim과 다른 사용자 간의 코사인 유사도 계산\n",
        "cos_sim = cosine_similarity(users)[0, 1:]\n",
        "\n",
        "# 각 항목의 값을 유사도로 가중 평균하여 예측\n",
        "def predict_missing_value(kim, others, cos_sim):\n",
        "    predictions = []\n",
        "    for i in range(len(kim)):\n",
        "        if kim[i] == 0:  # 값이 비어 있는 항목에 대해서만 예측\n",
        "            weighted_sum = np.sum(others[:, i] * cos_sim)\n",
        "            sum_of_weights = np.sum(cos_sim)\n",
        "            prediction = weighted_sum / sum_of_weights if sum_of_weights != 0 else 0\n",
        "            predictions.append(prediction)\n",
        "        else:\n",
        "            predictions.append(kim[i])\n",
        "    return predictions\n",
        "\n",
        "# 다른 사용자의 벡터 모음 (Kim 제외)\n",
        "other_users = users[1:]\n",
        "\n",
        "# Kim의 빈 값을 예측\n",
        "kim_filled = predict_missing_value(kim, other_users, cos_sim)\n",
        "\n",
        "# Kim의 다섯 번째와 여섯 번째 값에 대한 레이블 결정\n",
        "fifth_value = kim_filled[4]\n",
        "sixth_value = kim_filled[5]\n",
        "\n",
        "if fifth_value > sixth_value:\n",
        "    label = \"E\"\n",
        "else:\n",
        "    label = \"F\"\n",
        "\n",
        "# 결과 출력\n",
        "print(f\"Kim의 다섯 번째 값: {fifth_value}\")\n",
        "print(f\"Kim의 여섯 번째 값: {sixth_value}\")\n",
        "print(f\"추천: {label}\")"
      ],
      "metadata": {
        "colab": {
          "base_uri": "https://localhost:8080/"
        },
        "id": "xEUJKDz1qvDI",
        "outputId": "593716b4-3fd7-4d7a-9eda-12aacfb70bf4"
      },
      "execution_count": 1,
      "outputs": [
        {
          "output_type": "stream",
          "name": "stdout",
          "text": [
            "Kim의 다섯 번째 값: 3.39702127399391\n",
            "Kim의 여섯 번째 값: 2.3625384640129212\n",
            "추천: E\n"
          ]
        }
      ]
    },
    {
      "cell_type": "code",
      "source": [
        "# KNN(최근접이웃) 에 의한 추천 시스템\n",
        "import numpy as np\n",
        "from sklearn.impute import KNNImputer\n",
        "\n",
        "# 사용자 벡터 정의 (Kim의 다섯 번째, 여섯 번째 값은 결측값으로 처리)\n",
        "kim = np.array([5, 1, 4, 4, np.nan, np.nan])\n",
        "lee = np.array([3, 1, 2, 2, 3, 2])\n",
        "park = np.array([4, 2, 4, 5, 5, 1])\n",
        "choi = np.array([3, 3, 1, 5, 4, 3])\n",
        "kwon = np.array([1, 5, 5, 2, 1, 4])\n",
        "\n",
        "# 모든 사용자 벡터를 모아서 행렬로 만듦\n",
        "users = np.array([kim, lee, park, choi, kwon])\n",
        "\n",
        "# KNNImputer를 사용해 결측값 채우기\n",
        "knn_imputer = KNNImputer(n_neighbors=2, weights='uniform')  # 가까운 2명의 이웃을 사용\n",
        "users_filled = knn_imputer.fit_transform(users)\n",
        "\n",
        "# Kim의 채워진 벡터 확인\n",
        "kim_filled = users_filled[0]\n",
        "\n",
        "# Kim의 다섯 번째와 여섯 번째 값에 대한 레이블 결정\n",
        "fifth_value = kim_filled[4]\n",
        "sixth_value = kim_filled[5]\n",
        "\n",
        "if fifth_value > sixth_value:\n",
        "    label = \"E\"\n",
        "else:\n",
        "    label = \"F\"\n",
        "\n",
        "# 결과 출력\n",
        "print(f\"Kim의 다섯 번째 값: {fifth_value}\")\n",
        "print(f\"Kim의 여섯 번째 값: {sixth_value}\")\n",
        "print(f\"추천: {label}\")"
      ],
      "metadata": {
        "colab": {
          "base_uri": "https://localhost:8080/"
        },
        "id": "7eTqjkijrA9J",
        "outputId": "fc2cce1e-925b-4c3f-b726-75a4903173e0"
      },
      "execution_count": 2,
      "outputs": [
        {
          "output_type": "stream",
          "name": "stdout",
          "text": [
            "Kim의 다섯 번째 값: 4.0\n",
            "Kim의 여섯 번째 값: 1.5\n",
            "추천: E\n"
          ]
        }
      ]
    },
    {
      "cell_type": "code",
      "source": [
        "# 데이터 로딩\n",
        "import pandas as pd\n",
        "\n",
        "# 텍스트 파일을 읽어옵니다.\n",
        "file_path = 'kim.txt'  # 파일 경로 설정\n",
        "\n",
        "# 파일을 읽고 데이터를 리스트로 변환합니다.\n",
        "data = []\n",
        "with open(file_path, 'r') as file:\n",
        "    for line in file:\n",
        "        elements = line.strip().split(',')\n",
        "        if len(elements) == 3:  # Check if there are three elements (user, item, rating)\n",
        "            user, item, rating = elements\n",
        "            try:\n",
        "                data.append([user, item, int(rating)])\n",
        "            except ValueError:\n",
        "                print(f\"Invalid rating value for line: {line.strip()}\")  # Handle invalid ratings\n",
        "        else:\n",
        "            print(f\"Skipping line: {line.strip()}\")  # Handle lines with missing elements\n",
        "\n",
        "# 리스트를 데이터프레임으로 변환합니다.\n",
        "df = pd.DataFrame(data, columns=['User', 'Item', 'Rating'])\n",
        "\n",
        "# 결과 출력\n",
        "print(df)"
      ],
      "metadata": {
        "colab": {
          "base_uri": "https://localhost:8080/"
        },
        "id": "twBqBOj5wo74",
        "outputId": "55ec7849-34d6-4bb1-cfdc-3409042a3afc"
      },
      "execution_count": 2,
      "outputs": [
        {
          "output_type": "stream",
          "name": "stdout",
          "text": [
            "Invalid rating value for line: kim,E,\n",
            "Invalid rating value for line: kim,F,\n",
            "    User Item  Rating\n",
            "0   ﻿kim    A       5\n",
            "1    kim    B       1\n",
            "2    kim    C       4\n",
            "3    kim    D       4\n",
            "4    lee    A       3\n",
            "5    lee    B       1\n",
            "6    lee    C       2\n",
            "7    lee    D       2\n",
            "8    lee    E       3\n",
            "9    lee    F       2\n",
            "10  park    A       4\n",
            "11  park    B       2\n",
            "12  park    C       4\n",
            "13  park    D       5\n",
            "14  park    E       5\n",
            "15  park    F       1\n",
            "16  choi    A       3\n",
            "17  choi    B       3\n",
            "18  choi    C       1\n",
            "19  choi    D       5\n",
            "20  choi    E       4\n",
            "21  choi    F       3\n",
            "22  kwon    A       1\n",
            "23  kwon    B       5\n",
            "24  kwon    C       5\n",
            "25  kwon    D       2\n",
            "26  kwon    E       1\n",
            "27  kwon    F       4\n"
          ]
        }
      ]
    },
    {
      "cell_type": "code",
      "source": [],
      "metadata": {
        "id": "PFiT02yPTyWy"
      },
      "execution_count": null,
      "outputs": []
    },
    {
      "cell_type": "code",
      "source": [
        "# 여러 중복 레코드를 통합하여 데이터 프레임으로 구성\n",
        "import pandas as pd\n",
        "\n",
        "# 파일 경로 설정 (kim.txt 파일이 있는 위치)\n",
        "file_path = 'kim.txt'\n",
        "\n",
        "# 데이터를 읽어오기\n",
        "data = []\n",
        "with open(file_path, 'r', encoding='utf-8') as file:\n",
        "    for line in file:\n",
        "        parts = line.strip().split(',')\n",
        "        data.append(parts)\n",
        "\n",
        "# 데이터프레임으로 변환\n",
        "columns = ['User'] + list('ABCDEF')\n",
        "df = pd.DataFrame(data, columns=['User', 'Item', 'Rating'])\n",
        "df = df.pivot(index='User', columns='Item', values='Rating').reset_index()\n",
        "\n",
        "# 결과 출력\n",
        "print(df)\n",
        "\n",
        "# 결측값을 NaN으로 변환하고, 정렬\n",
        "df.replace('', pd.NA, inplace=True)\n",
        "df = df.reindex(columns=columns)\n",
        "df.set_index('User', inplace=True)\n",
        "\n",
        "# DataFrame 출력\n",
        "print(df)\n"
      ],
      "metadata": {
        "colab": {
          "base_uri": "https://localhost:8080/"
        },
        "id": "bvoQevuZRKES",
        "outputId": "a8bf7645-fc56-425e-9bc2-d2e33845b4e0"
      },
      "execution_count": 3,
      "outputs": [
        {
          "output_type": "stream",
          "name": "stdout",
          "text": [
            "Item  User    A    B    C    D    E    F\n",
            "0     choi    3    3    1    5    4    3\n",
            "1      kim  NaN    1    4    4          \n",
            "2     kwon    1    5    5    2    1    4\n",
            "3      lee    3    1    2    2    3    2\n",
            "4     park    4    2    4    5    5    1\n",
            "5     ﻿kim    5  NaN  NaN  NaN  NaN  NaN\n",
            "Item    A    B    C    D     E     F\n",
            "User                                \n",
            "choi    3    3    1    5     4     3\n",
            "kim   NaN    1    4    4  <NA>  <NA>\n",
            "kwon    1    5    5    2     1     4\n",
            "lee     3    1    2    2     3     2\n",
            "park    4    2    4    5     5     1\n",
            "﻿kim    5  NaN  NaN  NaN   NaN   NaN\n"
          ]
        }
      ]
    },
    {
      "cell_type": "code",
      "source": [
        "import numpy as np\n",
        "import pandas as pd\n",
        "from sklearn.metrics.pairwise import cosine_similarity\n",
        "\n",
        "# 사용자 데이터\n",
        "data = {\n",
        "    'A': [5, 3, 4, 3, 1],\n",
        "    'B': [1, 1, 2, 3, 5],\n",
        "    'C': [4, 2, 4, 1, 5],\n",
        "    'D': [4, 2, 5, 5, 2],\n",
        "    'E': [np.nan, 3, 5, 4, 1],\n",
        "    'F': [np.nan, 2, 2, 3, 4]\n",
        "}\n",
        "\n",
        "users = ['kim', 'lee', 'park', 'choi', 'kwon']\n",
        "\n",
        "# 데이터프레임 생성\n",
        "df = pd.DataFrame(data, index=users)\n",
        "\n",
        "# 결측값을 각 열의 평균으로 채우기\n",
        "df_filled = df.apply(lambda col: col.fillna(col.mean()), axis=0)\n",
        "\n",
        "# 코사인 유사도 계산\n",
        "cos_sim = cosine_similarity(df_filled)\n",
        "\n",
        "# 코사인 유사도를 데이터프레임으로 변환하여 사용자별 유사도 값 추가\n",
        "cos_sim_df = pd.DataFrame(cos_sim, index=users, columns=users)\n",
        "\n",
        "# 사용자별로 kim과의 코사인 유사도 값 추출\n",
        "cos_sim_with_kim = cos_sim_df['kim']\n",
        "\n",
        "# 원래 데이터프레임에 코사인 유사도 값 추가\n",
        "df['코사인 유사도'] = cos_sim_with_kim\n",
        "\n",
        "# 결과 출력\n",
        "print(df)\n",
        "\n",
        "\"\"\"\n",
        "1. 데이터 준비: Kim, Lee, Park, Choi, Kwon의 아이템 A, B, C, D, E, F에 대한 평점 데이터를 정의합니다. 일부 값은 결측값(NaN)으로 표시됩니다.\n",
        "2. 결측값 처리: 결측값을 각 열의 평균으로 채웁니다. 이 작업은 코사인 유사도를 계산하기 위해 필요합니다.\n",
        "3. 코사인 유사도 계산: cosine_similarity 함수를 사용해 각 사용자 간의 유사도를 계산합니다.\n",
        "4. 코사인 유사도 추가: Kim 사용자와 다른 사용자 간의 코사인 유사도 값을 추출하고, 이를 데이터프레임에 새 열로 추가합니다.\n",
        "5. 결과 출력: 최종 데이터프레임을 출력하여 각 사용자별 코사인 유사도를 확인할 수 있습니다.\n",
        "\n",
        "결과\n",
        "       A  B  C  D    E    F  코사인 유사도\n",
        "kim    5  1  4  4  NaN  NaN  1.000000\n",
        "lee    3  1  2  2  3.0  2.0  0.990375\n",
        "park   4  2  4  5  5.0  1.0  0.975100\n",
        "choi   3  3  1  5  4.0  3.0  0.831398\n",
        "kwon   1  5  5  2  1.0  4.0  0.672804\n",
        "\"\"\""
      ],
      "metadata": {
        "colab": {
          "base_uri": "https://localhost:8080/",
          "height": 201
        },
        "id": "-zz216LsRiU6",
        "outputId": "0d5db2a0-e999-4640-f998-27ec3b504f8c"
      },
      "execution_count": 4,
      "outputs": [
        {
          "output_type": "stream",
          "name": "stdout",
          "text": [
            "      A  B  C  D    E    F   코사인 유사도\n",
            "kim   5  1  4  4  NaN  NaN  1.000000\n",
            "lee   3  1  2  2  3.0  2.0  0.972652\n",
            "park  4  2  4  5  5.0  2.0  0.963487\n",
            "choi  3  3  1  5  4.0  3.0  0.872715\n",
            "kwon  1  5  5  2  1.0  4.0  0.705759\n"
          ]
        },
        {
          "output_type": "execute_result",
          "data": {
            "text/plain": [
              "'\\n1. 데이터 준비: Kim, Lee, Park, Choi, Kwon의 아이템 A, B, C, D, E, F에 대한 평점 데이터를 정의합니다. 일부 값은 결측값(NaN)으로 표시됩니다.\\n2. 결측값 처리: 결측값을 각 열의 평균으로 채웁니다. 이 작업은 코사인 유사도를 계산하기 위해 필요합니다.\\n3. 코사인 유사도 계산: cosine_similarity 함수를 사용해 각 사용자 간의 유사도를 계산합니다.\\n4. 코사인 유사도 추가: Kim 사용자와 다른 사용자 간의 코사인 유사도 값을 추출하고, 이를 데이터프레임에 새 열로 추가합니다.\\n5. 결과 출력: 최종 데이터프레임을 출력하여 각 사용자별 코사인 유사도를 확인할 수 있습니다.\\n\\n결과\\n       A  B  C  D    E    F  코사인 유사도\\nkim    5  1  4  4  NaN  NaN  1.000000\\nlee    3  1  2  2  3.0  2.0  0.990375\\npark   4  2  4  5  5.0  1.0  0.975100\\nchoi   3  3  1  5  4.0  3.0  0.831398\\nkwon   1  5  5  2  1.0  4.0  0.672804\\n'"
            ],
            "application/vnd.google.colaboratory.intrinsic+json": {
              "type": "string"
            }
          },
          "metadata": {},
          "execution_count": 4
        }
      ]
    },
    {
      "cell_type": "code",
      "source": [
        "# 코사인 유사도 계산\n",
        "import numpy as np\n",
        "import pandas as pd\n",
        "from sklearn.metrics.pairwise import cosine_similarity\n",
        "\n",
        "# 텍스트 파일 로딩\n",
        "df = pd.read_csv('kim.txt', header=None, names=['User', 'Item', 'Rating'])\n",
        "\n",
        "# 피벗 테이블로 변환하여 사용자-항목 행렬 생성\n",
        "df_pivot = df.pivot(index='User', columns='Item', values='Rating')\n",
        "\n",
        "# 결측값을 각 열의 평균으로 채우기\n",
        "df_filled = df_pivot.apply(lambda col: col.fillna(col.mean()), axis=0)\n",
        "\n",
        "# 코사인 유사도 계산\n",
        "cos_sim = cosine_similarity(df_filled)\n",
        "\n",
        "# 코사인 유사도를 데이터프레임으로 변환하여 사용자별 유사도 값 추가\n",
        "cos_sim_df = pd.DataFrame(cos_sim, index=df_filled.index, columns=df_filled.index)\n",
        "\n",
        "# 사용자별로 'kim'과의 코사인 유사도 값 추출\n",
        "cos_sim_with_kim = cos_sim_df['kim']\n",
        "\n",
        "# 원래 데이터프레임에 코사인 유사도 값 추가\n",
        "df_filled['코사인 유사도'] = cos_sim_with_kim\n",
        "\n",
        "# 결과 출력\n",
        "print(df_filled)\n",
        "\n"
      ],
      "metadata": {
        "colab": {
          "base_uri": "https://localhost:8080/"
        },
        "id": "V5DueKkhSHlz",
        "outputId": "70fb9a5f-5f33-4a8b-f72c-4f6a64deac16"
      },
      "execution_count": 8,
      "outputs": [
        {
          "output_type": "stream",
          "name": "stdout",
          "text": [
            "Item    A    B    C    D     E    F   코사인 유사도\n",
            "User                                         \n",
            "choi  3.0  3.0  1.0  5.0  4.00  3.0  0.869898\n",
            "kim   5.0  1.0  4.0  4.0  3.25  2.5  1.000000\n",
            "kwon  1.0  5.0  5.0  2.0  1.00  4.0  0.698298\n",
            "lee   3.0  1.0  2.0  2.0  3.00  2.0  0.970764\n",
            "park  4.0  2.0  4.0  5.0  5.00  1.0  0.951331\n"
          ]
        }
      ]
    },
    {
      "cell_type": "code",
      "source": [
        "# KNN 에 의한 kim의 E, F 평점 예측\n",
        "import numpy as np\n",
        "import pandas as pd\n",
        "from sklearn.metrics.pairwise import cosine_similarity\n",
        "from sklearn.neighbors import NearestNeighbors\n",
        "import matplotlib.pyplot as plt\n",
        "\n",
        "# 1. 파일 읽기 및 데이터 로딩\n",
        "file_path = 'kim.txt'\n",
        "data = []\n",
        "\n",
        "with open(file_path, 'r', encoding='utf-8') as file:\n",
        "    for line in file:\n",
        "        parts = line.strip().split(',')\n",
        "        user, item, rating = parts[0], parts[1], parts[2]\n",
        "        if rating == '':\n",
        "            rating = np.nan\n",
        "        else:\n",
        "            rating = float(rating)\n",
        "        data.append((user, item, rating))\n",
        "\n",
        "# 데이터프레임으로 변환\n",
        "df = pd.DataFrame(data, columns=['User', 'Item', 'Rating'])\n",
        "df_pivot = df.pivot(index='User', columns='Item', values='Rating')\n",
        "\n",
        "# 데이터프레임 인덱스 확인\n",
        "print(\"데이터프레임 인덱스:\")\n",
        "print(df_pivot.index)\n",
        "\n",
        "# 2. 결측값을 각 열의 평균으로 채우기\n",
        "df_filled = df_pivot.apply(lambda col: col.fillna(col.mean()), axis=0)\n",
        "\n",
        "# 3. 코사인 유사도 계산\n",
        "cos_sim = cosine_similarity(df_filled)\n",
        "\n",
        "# 코사인 유사도 행렬 출력\n",
        "users = df_pivot.index.tolist()\n",
        "cos_sim_df = pd.DataFrame(cos_sim, index=users, columns=users)\n",
        "print(\"코사인 유사도 행렬:\")\n",
        "print(cos_sim_df)\n",
        "\n",
        "# 4. KNN 설정\n",
        "k = 2  # K값 설정 (예시로 2 설정)\n",
        "neigh = NearestNeighbors(n_neighbors=k, metric='cosine')\n",
        "neigh.fit(df_filled)\n",
        "\n",
        "# Kim의 인덱스 확인\n",
        "if 'Kim' in df_filled.index:\n",
        "    kim_index = 'Kim'\n",
        "elif 'kim' in df_filled.index:\n",
        "    kim_index = 'kim'\n",
        "else:\n",
        "    raise KeyError(\"'Kim' 또는 'kim'이라는 인덱스가 존재하지 않습니다.\")\n",
        "\n",
        "# Kim의 이웃 찾기 (사용자 인덱스 0)\n",
        "distances, indices = neigh.kneighbors([df_filled.loc[kim_index]])\n",
        "\n",
        "# Kim의 이웃 인덱스 추출 및 거리 출력\n",
        "print(\"\\nKim의 KNN 이웃 인덱스와 거리:\")\n",
        "for i, index in enumerate(indices[0]):\n",
        "    print(f\"이웃 {i+1}: 사용자 '{users[index]}' (거리: {distances[0][i]})\")\n",
        "\n",
        "# 5. 결측값에 대한 가중 평균 계산\n",
        "recommendations = {}\n",
        "for item in ['E', 'F']:\n",
        "    item_index = df_filled.columns.get_loc(item)\n",
        "    weighted_sum = 0\n",
        "    similarity_sum = 0\n",
        "    for neighbor_index in indices[0]:\n",
        "        if not np.isnan(df_filled.iloc[neighbor_index, item_index]):\n",
        "            similarity = 1 - distances[0][indices[0].tolist().index(neighbor_index)]  # 코사인 거리 -> 유사도로 변환\n",
        "            rating = df_filled.iloc[neighbor_index, item_index]\n",
        "            weighted_sum += similarity * rating\n",
        "            similarity_sum += similarity\n",
        "            print(f\"\\n{item} 예측에 사용된 '{users[neighbor_index]}'의 평점: {rating} (유사도: {similarity})\")\n",
        "    if similarity_sum != 0:\n",
        "        recommendations[item] = weighted_sum / similarity_sum\n",
        "        print(f\"{item}의 예측 값: {recommendations[item]}\")\n",
        "\n",
        "# 6. 결과 그래프\n",
        "labels = ['A', 'B', 'C', 'D', 'E', 'F']\n",
        "kim_values = [\n",
        "    df_filled.loc[kim_index, 'A'],\n",
        "    df_filled.loc[kim_index, 'B'],\n",
        "    df_filled.loc[kim_index, 'C'],\n",
        "    df_filled.loc[kim_index, 'D'],\n",
        "    recommendations.get('E', np.nan),\n",
        "    recommendations.get('F', np.nan)\n",
        "]\n",
        "\n",
        "plt.figure(figsize=(10, 6))\n",
        "plt.bar(labels, kim_values, color='skyblue')\n",
        "plt.title(\"Kim's Predicted Ratings for E and F\")\n",
        "plt.xlabel(\"Items\")\n",
        "plt.ylabel(\"Ratings\")\n",
        "plt.ylim(0, 6)\n",
        "plt.show()\n"
      ],
      "metadata": {
        "colab": {
          "base_uri": "https://localhost:8080/",
          "height": 1000
        },
        "id": "kqQR9-wHS8WD",
        "outputId": "61a7a9d3-fdae-468c-ee59-0cfd32088ba8"
      },
      "execution_count": 9,
      "outputs": [
        {
          "output_type": "stream",
          "name": "stdout",
          "text": [
            "데이터프레임 인덱스:\n",
            "Index(['choi', 'kim', 'kwon', 'lee', 'park', '﻿kim'], dtype='object', name='User')\n",
            "코사인 유사도 행렬:\n",
            "          choi       kim      kwon       lee      park      ﻿kim\n",
            "choi  1.000000  0.887046  0.695193  0.908121  0.903470  0.914416\n",
            "kim   0.887046  1.000000  0.752029  0.958361  0.962215  0.957357\n",
            "kwon  0.695193  0.752029  1.000000  0.698501  0.669653  0.748771\n",
            "lee   0.908121  0.958361  0.698501  1.000000  0.943530  0.976738\n",
            "park  0.903470  0.962215  0.669653  0.943530  1.000000  0.947522\n",
            "﻿kim  0.914416  0.957357  0.748771  0.976738  0.947522  1.000000\n",
            "\n",
            "Kim의 KNN 이웃 인덱스와 거리:\n",
            "이웃 1: 사용자 'kim' (거리: 1.1102230246251565e-16)\n",
            "이웃 2: 사용자 'park' (거리: 0.03778535622203483)\n",
            "\n",
            "E 예측에 사용된 'kim'의 평점: 3.25 (유사도: 0.9999999999999999)\n",
            "\n",
            "E 예측에 사용된 'park'의 평점: 5.0 (유사도: 0.9622146437779652)\n",
            "E의 예측 값: 4.108150575907117\n",
            "\n",
            "F 예측에 사용된 'kim'의 평점: 2.5 (유사도: 0.9999999999999999)\n",
            "\n",
            "F 예측에 사용된 'park'의 평점: 1.0 (유사도: 0.9622146437779652)\n",
            "F의 예측 값: 1.7644423635081854\n"
          ]
        },
        {
          "output_type": "stream",
          "name": "stderr",
          "text": [
            "/usr/local/lib/python3.10/dist-packages/sklearn/base.py:465: UserWarning: X does not have valid feature names, but NearestNeighbors was fitted with feature names\n",
            "  warnings.warn(\n"
          ]
        },
        {
          "output_type": "display_data",
          "data": {
            "text/plain": [
              "<Figure size 1000x600 with 1 Axes>"
            ],
            "image/png": "[encoded data removed]"
          },
          "metadata": {}
        }
      ]
    },
    {
      "cell_type": "code",
      "source": [
        "import numpy as np\n",
        "import pandas as pd\n",
        "from sklearn.metrics.pairwise import cosine_similarity\n",
        "from sklearn.metrics import mean_squared_error\n",
        "from sklearn.neighbors import NearestNeighbors\n",
        "\n",
        "# 1. 파일 읽기 및 데이터 로딩\n",
        "file_path = 'kim.txt'\n",
        "data = []\n",
        "\n",
        "with open(file_path, 'r', encoding='utf-8') as file:\n",
        "    for line in file:\n",
        "        parts = line.strip().split(',')\n",
        "        user, item, rating = parts[0], parts[1], parts[2]\n",
        "        if rating == '':\n",
        "            rating = np.nan\n",
        "        else:\n",
        "            rating = float(rating)\n",
        "        data.append((user, item, rating))\n",
        "\n",
        "# 데이터프레임으로 변환\n",
        "df = pd.DataFrame(data, columns=['User', 'Item', 'Rating'])\n",
        "df_pivot = df.pivot(index='User', columns='Item', values='Rating')\n",
        "\n",
        "# 결측값을 각 열의 평균으로 채우기\n",
        "df_filled = df_pivot.apply(lambda col: col.fillna(col.mean()), axis=0)\n",
        "\n",
        "# 코사인 유사도 계산\n",
        "cos_sim = cosine_similarity(df_filled)\n",
        "cos_sim_df = pd.DataFrame(cos_sim, index=df_filled.index, columns=df_filled.index)\n",
        "\n",
        "# KNN 설정\n",
        "k = 2\n",
        "neigh = NearestNeighbors(n_neighbors=k, metric='cosine')\n",
        "neigh.fit(df_filled)\n",
        "distances, indices = neigh.kneighbors(df_filled)\n",
        "\n",
        "# Kim에게 추천 계산 (사용자 인덱스 0)\n",
        "kim_index = df_filled.index.get_loc('kim')\n",
        "neighbors_indices = indices[kim_index]\n",
        "\n",
        "# 결측값에 대한 가중 평균 계산\n",
        "recommendations = {}\n",
        "for item in df_filled.columns:\n",
        "    if pd.isna(df_filled.loc['kim', item]):  # 결측값이 있는 항목만 추천\n",
        "        item_index = df_filled.columns.get_loc(item)\n",
        "        weighted_sum = 0\n",
        "        similarity_sum = 0\n",
        "        for neighbor_index in neighbors_indices:\n",
        "            if not pd.isna(df_filled.iloc[neighbor_index, item_index]):\n",
        "                similarity = 1 - distances[kim_index][list(indices[kim_index]).index(neighbor_index)]  # 코사인 거리 -> 유사도로 변환\n",
        "                rating = df_filled.iloc[neighbor_index, item_index]\n",
        "                weighted_sum += similarity * rating\n",
        "                similarity_sum += similarity\n",
        "        if similarity_sum != 0:\n",
        "            recommendations[item] = weighted_sum / similarity_sum\n",
        "\n",
        "# 실제 값과 추천 값이 모두 NaN일 경우를 방지\n",
        "true_values = [df_pivot.loc['kim', 'E'], df_pivot.loc['kim', 'F']]\n",
        "pred_values = [recommendations.get('E', np.nan), recommendations.get('F', np.nan)]\n",
        "\n",
        "# 실제 값과 추천 값이 모두 NaN일 경우, MSE와 RMSE 계산이 불가능하므로 예외 처리\n",
        "if not pd.isna(true_values).all() and not pd.isna(pred_values).all():\n",
        "    mse = mean_squared_error(true_values, pred_values)\n",
        "    rmse = np.sqrt(mse)\n",
        "else:\n",
        "    mse = rmse = np.nan\n",
        "\n",
        "# 결과 출력\n",
        "print(\"코사인 유사도 매트릭스:\")\n",
        "print(cos_sim_df)\n",
        "\n",
        "print(\"\\nKim에 대한 추천:\")\n",
        "if recommendations:\n",
        "    for item, recommendation in recommendations.items():\n",
        "        print(f\"Item {item}: {recommendation:.2f}\")\n",
        "    best_item = max(recommendations, key=recommendations.get)\n",
        "    best_value = recommendations[best_item]\n",
        "    print(f\"\\n가장 추천할 항목: Item {best_item} (추천 값: {best_value:.2f})\")\n",
        "else:\n",
        "    print(\"추천할 항목이 없습니다.\")\n",
        "\n",
        "print(f\"\\nMSE: {mse:.2f}, RMSE: {rmse:.2f}\")\n"
      ],
      "metadata": {
        "colab": {
          "base_uri": "https://localhost:8080/"
        },
        "id": "aUr3s9xMT0I6",
        "outputId": "8253de84-a0a6-45d1-d193-764e328e9dbb"
      },
      "execution_count": 18,
      "outputs": [
        {
          "output_type": "stream",
          "name": "stdout",
          "text": [
            "코사인 유사도 매트릭스:\n",
            "User      choi       kim      kwon       lee      park      ﻿kim\n",
            "User                                                            \n",
            "choi  1.000000  0.887046  0.695193  0.908121  0.903470  0.914416\n",
            "kim   0.887046  1.000000  0.752029  0.958361  0.962215  0.957357\n",
            "kwon  0.695193  0.752029  1.000000  0.698501  0.669653  0.748771\n",
            "lee   0.908121  0.958361  0.698501  1.000000  0.943530  0.976738\n",
            "park  0.903470  0.962215  0.669653  0.943530  1.000000  0.947522\n",
            "﻿kim  0.914416  0.957357  0.748771  0.976738  0.947522  1.000000\n",
            "\n",
            "Kim에 대한 추천:\n",
            "추천할 항목이 없습니다.\n",
            "\n",
            "MSE: nan, RMSE: nan\n"
          ]
        }
      ]
    },
    {
      "cell_type": "code",
      "source": [
        "import numpy as np\n",
        "import pandas as pd\n",
        "from sklearn.metrics.pairwise import cosine_similarity\n",
        "from sklearn.metrics import mean_squared_error\n",
        "from sklearn.neighbors import NearestNeighbors\n",
        "import matplotlib.pyplot as plt\n",
        "\n",
        "# 1. 파일 읽기 및 데이터 로딩\n",
        "file_path = 'kim.txt'\n",
        "data = []\n",
        "\n",
        "with open(file_path, 'r', encoding='utf-8') as file:\n",
        "    for line in file:\n",
        "        parts = line.strip().split(',')\n",
        "        user, item, rating = parts[0], parts[1], parts[2]\n",
        "        if rating == '':\n",
        "            rating = np.nan\n",
        "        else:\n",
        "            rating = float(rating)\n",
        "        data.append((user, item, rating))\n",
        "\n",
        "# 데이터프레임으로 변환\n",
        "df = pd.DataFrame(data, columns=['User', 'Item', 'Rating'])\n",
        "df_pivot = df.pivot(index='User', columns='Item', values='Rating')\n",
        "\n",
        "# 결측값을 각 열의 평균으로 채우기\n",
        "df_filled = df_pivot.apply(lambda col: col.fillna(col.mean()), axis=0)\n",
        "\n",
        "# 코사인 유사도 계산\n",
        "cos_sim = cosine_similarity(df_filled)\n",
        "cos_sim_df = pd.DataFrame(cos_sim, index=df_filled.index, columns=df_filled.index)\n",
        "\n",
        "# KNN 설정\n",
        "k = 2\n",
        "neigh = NearestNeighbors(n_neighbors=k, metric='cosine')\n",
        "neigh.fit(df_filled)\n",
        "distances, indices = neigh.kneighbors(df_filled)\n",
        "\n",
        "# Kim에게 추천 계산\n",
        "kim_index = df_filled.index.get_loc('kim')\n",
        "neighbors_indices = indices[kim_index]\n",
        "\n",
        "# 결측값에 대한 가중 평균 계산\n",
        "recommendations = {}\n",
        "for item in ['E', 'F']:\n",
        "    if pd.isna(df_filled.loc['kim', item]):  # 결측값이 있는 항목만 추천\n",
        "        item_index = df_filled.columns.get_loc(item)\n",
        "        weighted_sum = 0\n",
        "        similarity_sum = 0\n",
        "        for neighbor_index in neighbors_indices:\n",
        "            if not np.isnan(df_filled.iloc[neighbor_index, item_index]):\n",
        "                similarity = 1 - distances[kim_index][list(indices[kim_index]).index(neighbor_index)]  # 코사인 거리 -> 유사도로 변환\n",
        "                rating = df_filled.iloc[neighbor_index, item_index]\n",
        "                weighted_sum += similarity * rating\n",
        "                similarity_sum += similarity\n",
        "        if similarity_sum != 0:\n",
        "            recommendations[item] = weighted_sum / similarity_sum\n",
        "\n",
        "# MSE 및 RMSE 계산\n",
        "true_values = [4, 3]  # Kim의 E와 F의 실제 값 (임의로 설정된 값)\n",
        "pred_values = [recommendations.get('E', np.nan), recommendations.get('F', np.nan)]\n",
        "\n",
        "if not pd.isna(pred_values).all():\n",
        "    mse = mean_squared_error(true_values, pred_values)\n",
        "    rmse = np.sqrt(mse)\n",
        "else:\n",
        "    mse = rmse = np.nan\n",
        "\n",
        "# 결과 출력\n",
        "print(\"코사인 유사도 매트릭스:\")\n",
        "print(cos_sim_df)\n",
        "\n",
        "print(\"\\nKim에 대한 추천:\")\n",
        "for item, recommendation in recommendations.items():\n",
        "    print(f\"Item {item}: {recommendation:.2f}\")\n",
        "\n",
        "print(f\"\\nMSE: {mse:.2f}, RMSE: {rmse:.2f}\")\n",
        "\n",
        "# MSE와 RMSE 그래프 그리기\n",
        "plt.figure(figsize=(10, 6))\n",
        "plt.plot(['E', 'F'], true_values, label='True Values', marker='o', linestyle='--', color='blue')\n",
        "plt.plot(['E', 'F'], pred_values, label='Predicted Values', marker='o', linestyle='-', color='red')\n",
        "\n",
        "plt.title('True vs Predicted Values')\n",
        "plt.xlabel('Items')\n",
        "plt.ylabel('Rating')\n",
        "plt.legend()\n",
        "plt.grid(True)\n",
        "plt.show()\n"
      ],
      "metadata": {
        "colab": {
          "base_uri": "https://localhost:8080/",
          "height": 803
        },
        "id": "EIKVE3YiWz7S",
        "outputId": "fe57d155-5b92-4377-9595-03366276bb83"
      },
      "execution_count": 19,
      "outputs": [
        {
          "output_type": "stream",
          "name": "stdout",
          "text": [
            "코사인 유사도 매트릭스:\n",
            "User      choi       kim      kwon       lee      park      ﻿kim\n",
            "User                                                            \n",
            "choi  1.000000  0.887046  0.695193  0.908121  0.903470  0.914416\n",
            "kim   0.887046  1.000000  0.752029  0.958361  0.962215  0.957357\n",
            "kwon  0.695193  0.752029  1.000000  0.698501  0.669653  0.748771\n",
            "lee   0.908121  0.958361  0.698501  1.000000  0.943530  0.976738\n",
            "park  0.903470  0.962215  0.669653  0.943530  1.000000  0.947522\n",
            "﻿kim  0.914416  0.957357  0.748771  0.976738  0.947522  1.000000\n",
            "\n",
            "Kim에 대한 추천:\n",
            "\n",
            "MSE: nan, RMSE: nan\n"
          ]
        },
        {
          "output_type": "display_data",
          "data": {
            "text/plain": [
              "<Figure size 1000x600 with 1 Axes>"
            ],
            "image/png": "[encoded data removed]"
          },
          "metadata": {}
        }
      ]
    }
  ]
}